{
 "cells": [
  {
   "cell_type": "code",
   "execution_count": 6,
   "metadata": {},
   "outputs": [
    {
     "ename": "ModuleNotFoundError",
     "evalue": "No module named 'plotly'",
     "output_type": "error",
     "traceback": [
      "\u001b[0;31m---------------------------------------------------------------------------\u001b[0m",
      "\u001b[0;31mModuleNotFoundError\u001b[0m                       Traceback (most recent call last)",
      "\u001b[0;32m<ipython-input-6-6ce59aa401ca>\u001b[0m in \u001b[0;36m<module>\u001b[0;34m\u001b[0m\n\u001b[1;32m      2\u001b[0m \u001b[0;32mimport\u001b[0m \u001b[0mpandas\u001b[0m \u001b[0;32mas\u001b[0m \u001b[0mpd\u001b[0m\u001b[0;34m\u001b[0m\u001b[0;34m\u001b[0m\u001b[0m\n\u001b[1;32m      3\u001b[0m \u001b[0;32mimport\u001b[0m \u001b[0mnumpy\u001b[0m \u001b[0;32mas\u001b[0m \u001b[0mnp\u001b[0m\u001b[0;34m\u001b[0m\u001b[0;34m\u001b[0m\u001b[0m\n\u001b[0;32m----> 4\u001b[0;31m \u001b[0;32mimport\u001b[0m \u001b[0mplotly\u001b[0m\u001b[0;34m\u001b[0m\u001b[0;34m\u001b[0m\u001b[0m\n\u001b[0m\u001b[1;32m      5\u001b[0m \u001b[0;32mimport\u001b[0m \u001b[0mplotly\u001b[0m\u001b[0;34m.\u001b[0m\u001b[0mgraph_objs\u001b[0m \u001b[0;32mas\u001b[0m \u001b[0mgo\u001b[0m\u001b[0;34m\u001b[0m\u001b[0;34m\u001b[0m\u001b[0m\n\u001b[1;32m      6\u001b[0m \u001b[0mplotly\u001b[0m\u001b[0;34m.\u001b[0m\u001b[0moffline\u001b[0m\u001b[0;34m.\u001b[0m\u001b[0minit_notebook_mode\u001b[0m\u001b[0;34m(\u001b[0m\u001b[0;34m)\u001b[0m\u001b[0;34m\u001b[0m\u001b[0;34m\u001b[0m\u001b[0m\n",
      "\u001b[0;31mModuleNotFoundError\u001b[0m: No module named 'plotly'"
     ]
    }
   ],
   "source": [
    "from __future__ import division\n",
    "import pandas as pd\n",
    "import numpy as np\n",
    "import plotly\n",
    "import plotly.graph_objs as go\n",
    "plotly.offline.init_notebook_mode()\n",
    "import os\n",
    "import csv\n",
    "from tqdm import tqdm\n",
    "import random\n",
    "import math\n",
    "import operator\n",
    "import itertools\n",
    "import pickle\n",
    "import json\n"
   ]
  },
  {
   "cell_type": "code",
   "execution_count": 5,
   "metadata": {},
   "outputs": [],
   "source": [
    "item_averages = {}\n",
    "item_ratings = {}\n",
    "item_names = {}\n",
    "item_edges = {}\n",
    "user_edges = {}\n",
    "items_liked_by_user = {}\n",
    "items_disliked_by_user = {}"
   ]
  },
  {
   "cell_type": "code",
   "execution_count": 1,
   "metadata": {},
   "outputs": [
    {
     "ename": "NameError",
     "evalue": "name 'csv' is not defined",
     "output_type": "error",
     "traceback": [
      "\u001b[0;31m---------------------------------------------------------------------------\u001b[0m",
      "\u001b[0;31mNameError\u001b[0m                                 Traceback (most recent call last)",
      "\u001b[0;32m<ipython-input-1-e0ed8df8e714>\u001b[0m in \u001b[0;36m<module>\u001b[0;34m\u001b[0m\n\u001b[1;32m     48\u001b[0m \u001b[0;34m\u001b[0m\u001b[0m\n\u001b[1;32m     49\u001b[0m \u001b[0;31m# print \"Loading Items\"\u001b[0m\u001b[0;34m\u001b[0m\u001b[0;34m\u001b[0m\u001b[0;34m\u001b[0m\u001b[0m\n\u001b[0;32m---> 50\u001b[0;31m \u001b[0mload_items\u001b[0m\u001b[0;34m(\u001b[0m\u001b[0;34m'data/ml-20m/movies.csv'\u001b[0m\u001b[0;34m)\u001b[0m\u001b[0;34m\u001b[0m\u001b[0;34m\u001b[0m\u001b[0m\n\u001b[0m\u001b[1;32m     51\u001b[0m \u001b[0;32mwith\u001b[0m \u001b[0mopen\u001b[0m\u001b[0;34m(\u001b[0m\u001b[0;34m'f_item_names.json'\u001b[0m\u001b[0;34m,\u001b[0m \u001b[0;34m'w'\u001b[0m\u001b[0;34m)\u001b[0m \u001b[0;32mas\u001b[0m \u001b[0mf\u001b[0m\u001b[0;34m:\u001b[0m\u001b[0;34m\u001b[0m\u001b[0;34m\u001b[0m\u001b[0m\n\u001b[1;32m     52\u001b[0m     \u001b[0mjson\u001b[0m\u001b[0;34m.\u001b[0m\u001b[0mdump\u001b[0m\u001b[0;34m(\u001b[0m\u001b[0mitem_names\u001b[0m\u001b[0;34m,\u001b[0m \u001b[0mf\u001b[0m\u001b[0;34m)\u001b[0m\u001b[0;34m\u001b[0m\u001b[0;34m\u001b[0m\u001b[0m\n",
      "\u001b[0;32m<ipython-input-1-e0ed8df8e714>\u001b[0m in \u001b[0;36mload_items\u001b[0;34m(filename)\u001b[0m\n\u001b[1;32m      2\u001b[0m         \u001b[0mtotal_items\u001b[0m \u001b[0;34m=\u001b[0m \u001b[0;36m0\u001b[0m\u001b[0;34m\u001b[0m\u001b[0;34m\u001b[0m\u001b[0m\n\u001b[1;32m      3\u001b[0m         \u001b[0;32mwith\u001b[0m \u001b[0mopen\u001b[0m\u001b[0;34m(\u001b[0m\u001b[0mfilename\u001b[0m\u001b[0;34m,\u001b[0m \u001b[0;34m'r'\u001b[0m\u001b[0;34m)\u001b[0m \u001b[0;32mas\u001b[0m \u001b[0mcsvfile\u001b[0m\u001b[0;34m:\u001b[0m\u001b[0;34m\u001b[0m\u001b[0;34m\u001b[0m\u001b[0m\n\u001b[0;32m----> 4\u001b[0;31m                 \u001b[0mcsvreader\u001b[0m \u001b[0;34m=\u001b[0m \u001b[0mcsv\u001b[0m\u001b[0;34m.\u001b[0m\u001b[0mreader\u001b[0m\u001b[0;34m(\u001b[0m\u001b[0mcsvfile\u001b[0m\u001b[0;34m)\u001b[0m\u001b[0;34m\u001b[0m\u001b[0;34m\u001b[0m\u001b[0m\n\u001b[0m\u001b[1;32m      5\u001b[0m                 \u001b[0;31m# Skip header\u001b[0m\u001b[0;34m\u001b[0m\u001b[0;34m\u001b[0m\u001b[0;34m\u001b[0m\u001b[0m\n\u001b[1;32m      6\u001b[0m                 \u001b[0mnext\u001b[0m\u001b[0;34m(\u001b[0m\u001b[0mcsvreader\u001b[0m\u001b[0;34m)\u001b[0m\u001b[0;34m\u001b[0m\u001b[0;34m\u001b[0m\u001b[0m\n",
      "\u001b[0;31mNameError\u001b[0m: name 'csv' is not defined"
     ]
    }
   ],
   "source": [
    "def load_items(filename):\n",
    "\ttotal_items = 0\n",
    "\twith open(filename, 'r') as csvfile:\n",
    "\t\tcsvreader = csv.reader(csvfile)\n",
    "\t\t# Skip header\n",
    "\t\tnext(csvreader)\n",
    "\t\tfor row in csvreader:\n",
    "\t\t\tif not int(row[0]) in item_names:\n",
    "\t\t\t\titem_names[int(row[0])] = row[1]\n",
    "\t\t\t\ttotal_items+=1\n",
    "# print \"Loaded:\"+str(total_items(filename))+\" items\"\n",
    "\n",
    "\n",
    "# Load the ML dataset \n",
    "# or any other dataset in the\n",
    "# same format\n",
    "# userid, itemid, rating, timestamp\n",
    "def load_ratings(filename):\n",
    "\ttotal_ratings = 0\n",
    "\tunknown_items = 0\n",
    "\twith open(filename, 'r') as csvfile:\n",
    "\t\tcsvreader = csv.reader(csvfile)\n",
    "\t\t# Skip header\n",
    "\t\tnext(csvreader)\n",
    "\t\tfor row in csvreader:\n",
    "\t\t\tuserid = int(row[0])\n",
    "\t\t\titemid = int(row[1])\n",
    "\t\t\trating = float(row[2])\t\t\t\n",
    "\t\t\tif not itemid in item_ratings:\n",
    "\t\t\t\titem_ratings[itemid] = []\n",
    "\t\t\titem_ratings[itemid].append(rating)\n",
    "\t\t\tif not itemid in item_edges:\n",
    "\t\t\t\titem_edges[itemid]=[]\n",
    "\t\t\tif not userid in user_edges:\n",
    "\t\t\t\tuser_edges[userid]=[]\n",
    "\t\t\titem_edges[itemid].append((userid,rating))\n",
    "\t\t\tuser_edges[userid].append((itemid,rating))\n",
    "\t\t\tif rating==5:\n",
    "\t\t\t\tif not userid in items_liked_by_user:\n",
    "\t\t\t\t\titems_liked_by_user[userid]=[]\n",
    "\t\t\t\titems_liked_by_user[userid].append(itemid)\n",
    "\t\t\tif rating==1:\n",
    "\t\t\t\tif not userid in items_disliked_by_user:\n",
    "\t\t\t\t\titems_disliked_by_user[userid]=[]\n",
    "\t\t\t\titems_disliked_by_user[userid].append(itemid)\n",
    "\treturn\n",
    "\n",
    "\n",
    "# print \"Loading Items\"\n",
    "load_items('data/ml-20m/movies.csv')\n",
    "with open('f_item_names.json', 'w') as f:\n",
    "    json.dump(item_names, f)\n",
    "\n",
    "#print \"Loading Ratings\"\n",
    "load_ratings('data/ml-20m/ratings.csv')\n",
    "# print \"Done!\"\n",
    "f_all_users = user_edges.keys()\n",
    "\n",
    "for item in item_ratings:\n",
    "\titem_averages[item]=np.mean(item_ratings[item])\n",
    "\n",
    "with open('f_item_averages.json', 'w') as f:\n",
    "    json.dump(item_averages, f)\n",
    "\n",
    "with open('f_all_users.json', 'w') as f:\n",
    "    json.dump(f_all_users, f)\n",
    "\n",
    "with open('f_item_edges.json', 'w') as f:\n",
    "    json.dump(item_edges, f)\n",
    "\n",
    "with open('f_user_edges.json', 'w') as f:\n",
    "    json.dump(user_edges, f)\n",
    "\n",
    "with open('items_liked_by_user.json', 'w') as f:\n",
    "    json.dump(items_liked_by_user, f)\n",
    "\n",
    "with open('items_disliked_by_user.json', 'w') as f:\n",
    "    json.dump(items_disliked_by_user, f)\n",
    "\n",
    "\n",
    "# print \"All ratings and items processed\""
   ]
  },
  {
   "cell_type": "code",
   "execution_count": 32,
   "metadata": {
    "scrolled": true
   },
   "outputs": [],
   "source": [
    "import pandas as pd \n",
    "type_f_item_averages = pd.read_json('f_item_averages.json', typ='series') \n",
    "type_f_item_averages.loc[\"status\"] = \"f_item_averages\" \n",
    "type_f_item_averages.to_json(\"testf_item_averages.json\") \n",
    "\n",
    "type_f_item_names = pd.read_json('f_item_names.json', typ='series') \n",
    "type_f_item_names.loc[\"status\"] = \"f_item_names\" \n",
    "type_f_item_names.to_json(\"testf_item_names.json\") \n",
    "with open(\"testf_item_averages.json\") as data_file:\n",
    "    data_item_averages = json.load(data_file) \n",
    "with open(\"testf_item_names.json\") as data_file:\n",
    "    data_f_item_names = json.load(data_file)\n",
    "\n",
    "data_item_averages.update(data_f_item_names)\n",
    "\n",
    "with open(\"mlens2json.json\", \"w\") as fo: \n",
    "    json.dump(data_item_averages, fo) \n",
    "    \n",
    "# .concat([data_item_averages, data_f_item_names], axis=1).to_json()\n",
    "    \n",
    "#item_averages1= '/home/freddy/anaconda3/envs/TPE_OKIM/f_item_averages.json'\n",
    "#_item_names1= '/home/freddy/anaconda3/envs/TPE_OKIM/f_item_names.json'\n",
    "#ovilens2json = json.load(f_item_averages1.read())\n",
    "#ic2 = json.load(f_item_names1.read())\n",
    "#ovilens2json.update(dic2)\n",
    "\n",
    "#rint(movilens2json)"
   ]
  },
  {
   "cell_type": "code",
   "execution_count": null,
   "metadata": {},
   "outputs": [],
   "source": [
    "import json \n",
    "\n",
    "with open(\"f_item_averages.json.json\") as fo: \n",
    "    data1 = json.load(fo) \n",
    "\n",
    "with open(\"f_item_names.json\") as fo: \n",
    "    data2 = json.load(fo) \n",
    "\n",
    "data1.update(data2) \n",
    "\n",
    "with open(\"mlens2json.json\", \"w\") as fo: \n",
    "    json.dump(data1, fo) "
   ]
  },
  {
   "cell_type": "code",
   "execution_count": null,
   "metadata": {},
   "outputs": [],
   "source": []
  },
  {
   "cell_type": "code",
   "execution_count": null,
   "metadata": {},
   "outputs": [],
   "source": []
  }
 ],
 "metadata": {
  "kernelspec": {
   "display_name": "Python 3",
   "language": "python",
   "name": "python3"
  },
  "language_info": {
   "codemirror_mode": {
    "name": "ipython",
    "version": 3
   },
   "file_extension": ".py",
   "mimetype": "text/x-python",
   "name": "python",
   "nbconvert_exporter": "python",
   "pygments_lexer": "ipython3",
   "version": "3.6.8"
  }
 },
 "nbformat": 4,
 "nbformat_minor": 2
}
